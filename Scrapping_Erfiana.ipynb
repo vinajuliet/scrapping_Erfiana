{
  "nbformat": 4,
  "nbformat_minor": 0,
  "metadata": {
    "colab": {
      "provenance": [],
      "authorship_tag": "ABX9TyM/agWLQ7g005uvfpDm0wK/",
      "include_colab_link": true
    },
    "kernelspec": {
      "name": "python3",
      "display_name": "Python 3"
    },
    "language_info": {
      "name": "python"
    }
  },
  "cells": [
    {
      "cell_type": "markdown",
      "metadata": {
        "id": "view-in-github",
        "colab_type": "text"
      },
      "source": [
        "<a href=\"https://colab.research.google.com/github/vinajuliet/scrapping_Erfiana/blob/main/Scrapping_Erfiana.ipynb\" target=\"_parent\"><img src=\"https://colab.research.google.com/assets/colab-badge.svg\" alt=\"Open In Colab\"/></a>"
      ]
    },
    {
      "cell_type": "code",
      "source": [
        "pip install beautifulsoup4"
      ],
      "metadata": {
        "colab": {
          "base_uri": "https://localhost:8080/"
        },
        "id": "38g-1ki8f4vW",
        "outputId": "8a37c6d9-5b91-4d45-fb3e-32348bb5e801"
      },
      "execution_count": null,
      "outputs": [
        {
          "output_type": "stream",
          "name": "stdout",
          "text": [
            "Requirement already satisfied: beautifulsoup4 in /usr/local/lib/python3.10/dist-packages (4.12.3)\n",
            "Requirement already satisfied: soupsieve>1.2 in /usr/local/lib/python3.10/dist-packages (from beautifulsoup4) (2.6)\n"
          ]
        }
      ]
    },
    {
      "cell_type": "code",
      "source": [
        "import requests\n",
        "from bs4 import BeautifulSoup\n",
        "from csv import writer"
      ],
      "metadata": {
        "id": "cgm7OjyWEu0d"
      },
      "execution_count": 62,
      "outputs": []
    },
    {
      "cell_type": "code",
      "source": [
        "url = \"https://lifepal.co.id/asuransi/kesehatan/\"\n",
        "response = requests.get(url)\n",
        "html = BeautifulSoup(response.content, 'html.parser')\n",
        "\n",
        "asuransi = []"
      ],
      "metadata": {
        "id": "YdZoGvBmGECI"
      },
      "execution_count": 63,
      "outputs": []
    },
    {
      "cell_type": "code",
      "source": [
        "for item in html.find_all(\"a\", class_=\"PolicyCard_policyCard__4g1vz gtm_openleadform_productcard gtm_el__health\"):\n",
        "    x = item.find(\"div\", class_=\"PolicyCard_policyCard__title__cvO_r\")\n",
        "    if x:  # Memastikan x tidak None\n",
        "        asuransi.append(x.text)\n"
      ],
      "metadata": {
        "id": "qdds2mxTgf2p"
      },
      "execution_count": 67,
      "outputs": []
    },
    {
      "cell_type": "code",
      "source": [
        "with open('/content/sample_data_asuransi.csv', 'w') as csv_file:\n",
        "  csv_writer = writer(csv_file)\n",
        "  headers = ['Produk'] #Buat nama kolom\n",
        "  csv_writer.writerow(headers) #Buat kolom csv\n",
        "\n",
        "  for item in asuransi:\n",
        "    item = item.replace(\"\\n\", \"\")\n",
        "    csv_writer.writerow([item]) #buat baris pada csv"
      ],
      "metadata": {
        "id": "rmfmpiUsPpYV"
      },
      "execution_count": 68,
      "outputs": []
    }
  ]
}